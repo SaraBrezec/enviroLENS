{
 "cells": [
  {
   "cell_type": "code",
   "execution_count": 8,
   "metadata": {},
   "outputs": [],
   "source": [
    "# importing modules\n",
    "import os\n",
    "import sys\n",
    "module_path = os.path.abspath(os.path.join('..'))\n",
    "if module_path not in sys.path:\n",
    "    sys.path.append(module_path)\n",
    "from modules.library import documentRetrieval as dr\n",
    "from modules.library import queryExp as qe\n",
    "from modules.library.postgresql import PostgresQL\n",
    "pg = PostgresQL() \n"
   ]
  },
  {
   "cell_type": "code",
   "execution_count": 2,
   "metadata": {},
   "outputs": [
    {
     "name": "stderr",
     "output_type": "stream",
     "text": [
      "C:\\Users\\sarab\\Miniconda3\\envs\\envirolens\\lib\\site-packages\\smart_open\\smart_open_lib.py:398: UserWarning: This function is deprecated, use smart_open.open instead. See the migration notes for details: https://github.com/RaRe-Technologies/smart_open/blob/master/README.rst#migrating-to-the-new-open-function\n",
      "  'See the migration notes for details: %s' % _MIGRATION_NOTES_URL\n"
     ]
    },
    {
     "name": "stdout",
     "output_type": "stream",
     "text": [
      "english words 2519370\n"
     ]
    }
   ],
   "source": [
    "# importing word vectors\n",
    "from gensim.models import KeyedVectors\n",
    "wiki_en_align = './../data/fasttext/wiki.en.align.vec' #'../../data/fasttext/wiki.en.align.vec'\n",
    "# get fasttext wiki embeddings for english\n",
    "wv_wiki_en = KeyedVectors.load_word2vec_format(wiki_en_align)\n",
    "print('english words {}'.format(len(list(wv_wiki_en.vocab.keys()))))"
   ]
  },
  {
   "cell_type": "code",
   "execution_count": 3,
   "metadata": {},
   "outputs": [],
   "source": [
    "# prepare stopword list\n",
    "from nltk.corpus   import stopwords\n",
    "from nltk.tokenize import word_tokenize\n",
    "stopWords = stopwords.words('english')"
   ]
  },
  {
   "cell_type": "code",
   "execution_count": 9,
   "metadata": {},
   "outputs": [],
   "source": [
    "\n",
    "pg.connect(database=\"eurlex_environment_only\", user=\"postgres\", password=\"dbpass\") #\"eurlex_env_only\" \"solata.2018\""
   ]
  },
  {
   "cell_type": "code",
   "execution_count": 10,
   "metadata": {},
   "outputs": [],
   "source": [
    "def db_query(query_words):\n",
    "    \"\"\" Vrne seznam dokumentov iz baze, ki vsebujejo vsaj eno od besed iz seznama(list) query_words\"\"\"\n",
    "    output = '|'.join(query_words)\n",
    "    SQL = \"\"\"\n",
    "        SELECT * FROM documents\n",
    "        WHERE document_text @@ to_tsquery(\"\"\" + '\\''+ output + '\\'' + \"\"\");\"\"\"\n",
    "    documents = pg.execute(SQL)\n",
    "    return(documents)"
   ]
  },
  {
   "cell_type": "code",
   "execution_count": 12,
   "metadata": {},
   "outputs": [],
   "source": [
    "tokenized = qe.tokenize('water pollution underground', stopWords)\n",
    "ext = qe.extend_tokens(tokenized, wv_wiki_en)\n",
    "candidates = qe.pre_retrieval_KNN('water pollution underground', 5, wv_wiki_en, 10, stopWords,extension=False)"
   ]
  },
  {
   "cell_type": "code",
   "execution_count": 13,
   "metadata": {},
   "outputs": [],
   "source": [
    "docs = db_query(tokenized) #treba poizvedbo spravit v tako obliko da jo score function sprejme + preveri\n",
    "# kam v score fn. vteknes candidate, ext + premisli kaj od tega das v db_query (I guess vse)"
   ]
  },
  {
   "cell_type": "code",
   "execution_count": 14,
   "metadata": {},
   "outputs": [
    {
     "name": "stdout",
     "output_type": "stream",
     "text": [
      "15845\n"
     ]
    }
   ],
   "source": [
    "print(len(docs))"
   ]
  },
  {
   "cell_type": "code",
   "execution_count": 15,
   "metadata": {},
   "outputs": [
    {
     "data": {
      "text/plain": [
       "{'document_id': 54624,\n",
       " 'document_celex_num': '52013DC0319',\n",
       " 'document_title': 'COMMUNICATION FROM THE COMMISSION TO THE COUNCIL concerning a consultation on Fishing Opportunities for 2014',\n",
       " 'document_author': 'European Commission',\n",
       " 'document_form': 'Communication',\n",
       " 'document_date': datetime.date(2013, 5, 30),\n",
       " 'document_text': '|52013DC0319COMMUNICATION FROM THE COMMISSION TO THE COUNCIL concerning a consultation on Fishing Opportunities for 2014 /* COM/2013/0319 final */COMMUNICATION FROM THE COMMISSION TOTHE COUNCILconcerning a consultation on FishingOpportunities for 20141.\\xa0\\xa0\\xa0\\xa0\\xa0\\xa0\\xa0\\xa0\\xa0\\xa0 IntroductionThis document sets out the initialintentions of the European Commission concerning the fixing of total allowablecatches (TACs) and effort levels in European waters and for European fishers in2014. Member States and Regional Advisory Councils (RACs) are invited toprovide their views to the Commission for consideration before a final decisionis taken on the Commissions proposals.The state of fish stocks in EuropeanAtlantic and nearby waters continues to improve. More stocks are exploitedwithin their maximum sustainable yield (MSY) levels. Knowledge about the stateof stocks in the Mediterranean Sea and the Black Sea is also improving.Overfishing should continue to be phasedout. The main instruments to do this are adjustments in levels of fishingopportunities, with adaptations to the permitted structure of fishing gear toimprove selectivity. Following the expected adoption of the reform of theCommon Fisheries Policy, based on a proposal from the Commission[1], it is anticipated that from2014 obligations to land all fish caught will gradually come into force on afishery-by-fishery basis. This should also improve fish stock conservation.Ending overfishing will mean greatlyreducing the risk of commercial fish collapses, improving the profitability offishing fleets, lowering carbon emissions and fuel consumption and ensuring amore stable and reliable supply of fish to consumers. It also means reducingthe impact on the marine environment and on vulnerable species such as dolphinsand corals. These actions will contribute to achieving good environmentalstatus by 2020 as provided for by the Marine Strategy Framework Directive[2].Ending overfishing is also part of thesolution to ending discards as more fish will have a chance to grow to avaluable size and it will be much easier for fishermen to take catches ofgood-sized fish without taking the smaller fish.Given the benefits of MSY fishing, allefforts should be made to reach this condition as soon as possible. TheCommission intends to follow the scientific advice of the International Councilfor the Exploration of the Sea (ICES) and the Scientific, Technical andEconomic Committee for Fisheries (STECF) on achieving MSY with low risk ofstock depletion. This is the same basis for proposals for fishing opportunitiesas for the 2011-2013 fishing years.Where biological information on particularfish stocks is incomplete and no quantified estimation of MSY is possible, theCommission will use assessments and qualitative advice made by the samescientific bodies using the available information as a basis for its proposals,applying the precautionary principle in a transparent and systematic way. Forsome stocks, no changes will be proposed to TACs unless there is new evidencethat a change is needed.2.\\xa0\\xa0\\xa0\\xa0\\xa0\\xa0\\xa0\\xa0\\xa0\\xa0 State of StocksRecent information on the state of stocksin Atlantic European waters (Annex 1a) shows a marked improvement in the proportionof stocks for which scientific advice with respect to safe biological limits isavailable (Table 1). This has climbed from 35% for 2012 to 50% for 2013. Thenumber of stocks for which full assessments are available has climbed graduallyfrom 29 in 2007 to 46 in 2013, showing an improvement in the science underlyingthe advice (Table 5). Implementation by ICES of new methodology in data-limitedcases has resulted in an increase in the number of stocks for whichquantitiative advice was available from 47 stocks to 77 stocks. There is a continued improvement in thestate of the stocks (Table 2). The number of overfished stocks (where the mostrecent fishing mortality is higher than that which will provide MSY) has fallenfrom 47% last year to 39% this year. More stocks are under an advice to reducecatches to the lowest possible level (Table 3).These are cod and sole in theIrish Sea; herring in the Celtic Sea, prawns (Pandalus) in the northernNorth Sea and whiting to the west of Scotland. Norway pout have moved out ofthis category for 2013.Since 2011 TACs for 6stocks have been fixed by individual Member States[3]. This has been done – subject to safeguards concerninggood management - in cases where only one Member State has an interest in thefishery. It is a cause for concern that Member States have been unable tocomply fully with the reporting requirements, in most cases due to lack oftechnical basis for a full assessment of the state of the stocks concerned andfor allowing the fixing of precise MSY targets for these resources. It isdifficult to assess how far the TACs adopted are consistent with the CommonFisheries Policy in respect of sustainability. The Commission will furtherreview this topic during 2013.In the December 2012Council Denmark, Germany, the Netherlands, Sweden and the UK agreed that reducing fishing mortality for cod stocks has to remain a priority and thatthe Member States will develop discard reduction and cod-avoidance measures andimplement cod avoidance plans in 2013.Current knowledge onthe state of fish stocks is described below on a regional basis[4]. Northeast AtlanticPelagic stocks: Moststocks of herring (North Sea, west of Scotland, western Baltic, Bothnian Sea, Irish Sea and Celtic Sea) and Baltic Sea sprat are now fished at or within MSYfishing rates. TACs corresponding to MSY have been set for 2013 in all casesexcept for the Bothnian Sea herring. The situation has deteriorated for someother pelagic stocks: western horse mackerel, herring northwest of Ireland, in the Gulf of Riga and in the Baltic main basin are all overfished. Mackerel is aparticular concern. The Union continues to seek the agreement of Iceland and the Faroe Islands to join Norway and the EU in the sustainable management of mackerel.This has not been forthcoming. The total of the TACs fixed by the EU, Norway, Faroe Islands and Iceland in 2013 was again 36% above the scientific advice (excludingRussian catches). The rate of fishing is still outside sustainablelimits and the stock will decline in the coming year. Within ICES further workis underway to assess the state of the mackerel stock. North Sea, Skagerrakand Kattegat: Saithe, plaice, haddock and herring are fished at a level consistentwith MSY, as are Nephrops in the Skagerrak and on the Fladen grounds. All otherstocks including sole are either overfished, or there is insufficientinformation to evaluate their status. Serious concerns remain about North Sea cod. Despite recent increases in stock size and reductions in fishing mortality,the stock is close to the limit biomass and less than half the precautionarylevel. Discard rates have been declining but are still around 25% of landings.Fishing mortality rates are well above MSY levels and increasingly higher thanthe rates intended in the long-term plan. The actions taken to date have notbeen sufficient. More needs to be done. In the Kattegat, cod is at an extremelylow level and further measures such as closed areas are needed to protect thisstock.Discards of plaice and of whiting are alsostill very high at around 40% and 56% of catches respectively.However, following the agreement with Norway to implement the discard ban, new gear with improved selectivity was introduced in the Skagerrak in 2013. Work on further improvements in selectivity in the North Sea is alsounderway.Baltic Sea:Sprat, the eastern cod, western herring, and Bothnian Sea herring are allfished at levels consistent with MSY. In 2012 TACs in the Baltic Sea werediscussed at a regional forum of national fisheries Directorates (“BALTFISH”).A very responsible agreement was reached concerning the setting of TACs for2013 in line with scientific advice, and the Commission could agree withCouncil on the TACs agreed at BALTFISH. This an excellent example ofimplementation of a regionalised approach that should also be followed byMember States in other areas.Member States have also reached agreementon implementing the discard ban. New selectivity measures in cod fisheries arein preparation by scientists in cooperation with the Baltic Sea RAC. This isintended to deliver a smooth transition to implementation of the discard ban.West of Scotland, Irish Sea and Celtic Sea: Whitefish (cod, haddock and whiting)in the Irish Sea and the West of Scotland remain a concern. Advice for cod and whiting in the Westof Scotland and Irish Sea was that catches should be reduced to the lowestlevel. Improvements in the haddock stock in the West of Scotland wereidentified as being over-estimated. For the Celtic Sea some recruitmentconcerns were identified and the assessments continue to highlight the need forselective measures. The MSY advice for the Celtic Sea haddock was a 55%reduction. Discards of whitefish remain very high and threaten the viability ofthese stocks. At the Council of December 2012, the UK and the Commissioncommitted to engaging with other Member States active in the West of Scotlandfisheries with the aim of reducing unwanted catches and eliminating discards.For the Celtic Sea the Commission, France, Ireland and UK agreed to review selective gear measures in 2013 to identify necessary improvements in2013 after discussion with stakeholders. Based on the conclusions, the MemberStates will agree to further selectivity measures to reduce discards in themixed whitefish fishery by the end of 2013. Of 18 stocks where MSYassessments could be made, 10 were fished at MSY levels in 2011. For 12 ofthese stocks the recommendation was often for substantial reductions. Anincrease was recommended for 8 stocks. For Norway lobster improved surveys have allowed the estimation of MSY to all but onefunctional unit. The improved information has alllowed for a shorter closedseason on the Porcupine Bank.Measures have beenintroduced in the Celtic Sea, Irish Sea and West of Scotland to addressdiscarding and to reduce cod mortality. Many of these were implemented only inOctober so impacts remain to be determined. These measures have been based onindustry inputs.NWWRAC have continuedtheir \"Data deficiency initiative\" and have had their third annualjoint working group with ICES to try to bridge the gap in scientific knowledgefor certain stocks in the Celtic Sea. This has been useful and a suggestion hasbeen made to rebuild historic data for the Irish Sea in 2013.Few assessments areavailable for the Bay of Biscay and Iberian-Atlantic Seas. Southern hakeare abundant due to good recruitment, but the stock is still overfished andthelong-term sustainability of this stock is at risk. The catch and effortregistration systems of Atlantic Member States have been audited by theCommission in 2012 and follow-up actions have been decided. With theimplementation of corrective measures throughout 2012 and 2013, progress madewill improve the control systems of the Member States concerned. Norway lobster in the Cantabrian Sea are still subject to an advice to stop fishing. Discards ofhake are assessed as around 6% of total catches.In the Mediterranean, the number and quality of assessments, though still geographicallyunbalanced and not regular over time show a considerable improvement. 85 out of113 stocks of EU interest, or in other words 75%, as analysed in 2010-2012 wesesubject to overfishing. Seven out of the 10 stocks exploited sustainably aresmall pelagics. As these assessments have begun only recently and not all ofthe stocks are assessed every year, it is not possible to use these data tolook at the development of the state of the stocks over time.In the Black Sea , the situation has deteriorated. Sprat is not now in good condition andis now subject to overfishing while turbot mortality appears to be at ahistorical high. It is being exploited unsustainably. Though these assessmentsare compromised by the paucity of fishery independent information, scientists recommendthat an international management plan for this stock be developed. In any case,2014 TACs should be based on scientific advice and be worked out together withother contracting parties within GFCM. 3.\\xa0\\xa0\\xa0\\xa0\\xa0\\xa0\\xa0\\xa0\\xa0\\xa0 Economic Analysis The aggregate EU fishing fleet showed somesigns of profitability in 2011 driven mainly by improvements in market prices.However, economic performance is poor in many segments of the fleet,particularly in the demersal sectors. STECF data suggests that around 45% ofall EU fleet segments made losses in 2011.Analysis suggests two reasons for this pooreconomic performance. Despite the improvement inmany fish stocks, the continued poor state of some important stocks means thatcatch rates are lower and costs associated with fishing –notably fuel usage-have been higher than expected.Fuel prices have continuedto increase in 2011, which reduced the profitability of the fleet, particularlyfor fuel-intensive fishing gears such as beam, demersal and pelagic trawl. Someoffset of this pressure could be achieved by changing to more fuel-efficientpropulsion and by changing fishing behaviour and fishing gear. Total fuel consumptionby the EU fleet decreased by 5% compared to 2010. Where these modificationshave taken place, fleets have been able to achieve significant fuel savings.However, the phasing out of overfishing clearly makes the biggest contributionto economic efficiency and stability in the face of challenges from highercosts.The most recent figures from 2011 show thatthe ~130 000 fishermen were employed in the EU - a decrease of about 5%compared to 2010. Greece and Cyprus are not included in this analysis as theydid not submit data. There continues to be a downward trend in employment inthe sector. According to information received fromMember States by 8th May 2013, data and indicators supporting thesestatements include the following:Income from fishingincreased from ~€6.5 bn in 2010 to €7.1bn in 2011 and net profit from €324m in2010 to €457m in 2011.Income from landingsincreased by 10% in 2011. The value of landings increased by 7.5% while thevolume landed decreased by 7.6%. The increase in prices was greater than involume in improving profitability. Although the landings volume fell, increasesocurred for certain stocks, mainly pelagic species.Although the overall EUfleet performance improved in 2011, with a ~40% increase in net profits, thenumber of fleet segments making losses increased. Around 45% of the EU fleetmade losses in 2011 compared to 42% in 2010. This suggests that there is abigger gap between profitable and non-profitable fleets.Energy costs increased in2011 by about 21% compared to 2010.4.\\xa0\\xa0\\xa0\\xa0\\xa0\\xa0\\xa0\\xa0\\xa0\\xa0 Policy Directions 4.1.\\xa0\\xa0\\xa0\\xa0\\xa0\\xa0\\xa0 Developments in scientificadvice for stocks where information is incompleteConcerns about lack of scientific advicefor many stocks were raised in previous editions of this Communication. Inresponse, ICES introduced a new advisory methodology in 2012, based on usingall avalable information., Where gaps exist in the data (and quantifiedassessment cannot be calculated) then new procedures are used to drawinferences about the state of the stock using the available data. Informationsuch as catch history, trends in surveys, biological information on growth andmaturity can now be combined and used to provide an advice with respect to MSYor to precautionary criteria. This is less precise than that based on analyticassessments, but this may be acceptable in cases where the stocks are small, oflow economic importance or with a short exploitation history. Advice on 48 suchstocks was provided by ICES in 2012.This category currently also includes somevaluable and important stocks, notably anglerfish. Further improvements in datacollection and analysis are still needed. The Commission will continue topursue such improvements through the introduction of a replacement for the“Data Collection Framework”[5].In case of continued lack of data, the precautionary approach will need to bestrengthened. 4.2.\\xa0\\xa0\\xa0\\xa0\\xa0\\xa0\\xa0 Obligation to land allcatchesIt is anticipated thatthe reform of the Common Fisheries Policy will be adopted during 2013 and thatan obligation to land all catches will come into force on 1 January 2015 concerningfisheries for:small pelagic fish (mackerel, herring, horsemackerel, blue whiting, boarfish, anchovy, argentine, sardine, sprat);large pelagic fish (bluefin tuna, swordfish,albacore tuna, bigeye tuna, blue and white marlin);industrial purposes, i.a. fisheries for capelin,sandeel and Norway pout;Concerning fisheries for salmon in the Baltic Sea, it is expected that an obligation to land all catches will come into force on 1January 2014.During 2013 theCommission is asking ICES, STECF and GFCM to prepare for the evaluation of thequantities of these stocks that have been discarded in order that adjustmentsmay be made, where necessary, to the setting of fishing opportunities. Theseadjustments may involve increases in TACs depending on the extent of previousdiscarding. The principle is that the total out-take, including fish that wouldpreviously have been discarded, should not prejudice the attainment of the CFPobjectives, and in particular the attainment of Fmsy. Prior to thisevaluation, Member States are being requested to provide up-to-date informationto these advisory bodies. The relevant Regional Advisory Committees are alsobeing consulted. It is essential that discard data be subject to scientificscrutiny by these bodies prior to their consideration for TAC adjustmentpurposes. The Commissions futureproposals concerning fishing opportunities for these species will be draftedhaving regard to the implications for the appropriate levels of fishingopportunities with estimates of discards included in the scientific advice. Asnoted above, any such adaptations shall be without prejudice to the attainmentof the conservation goals of the CFP and notably the objective to bring stocksto MSY and to maintain them in that state thereafter.4.3.\\xa0\\xa0\\xa0\\xa0\\xa0\\xa0\\xa0 Fishing effortFishing effort (limitson time at sea for fishing vessels) has been managed alongside TACs to reducediscards and illegal catches. Effort management is a conservation measure usedin several long-term plans, e.g. for cod in the North Sea and Baltic Sea, theNorth Sea plaice and sole, the western Channel sole and the southern hake andNorway lobster stocks (Annex II).Annex II shows ageneral, if irregular, trend towards decreasing fishing effort since 2003 or2004 until 2010.Effort decreases aregreatest for the western Baltic Sea, the North Sea, the Kattegat, the IrishSea, and the west of Scotland but slightly less in the Western channel, whereeffort has been stable in the last three years. Only small decreases occurredin the Iberian-Atlantic area up to 2009. Data for 2010 and later are missingand Member States are requested to send complete effort data so as to have abetter picture of the effort trend, particularly in the framework of thesouthern hake effort regime and in accordance with several “FishingOpportunities” Regulations. Effort appears to be increasing since 2009 in thecentral Baltic Sea. Beam-trawl effort also increased in the western Channelfrom 2010 to 2011. From 2010 to 2011 effort was nearly unchanged in the IrishSea and in the western channel, but fell markedly to the west of Scotland.In contrast to thetrend in other areas, there is no evidence that measures to reduce effort inthe Iberian-Atlantic area have yet been effective. 5.\\xa0\\xa0\\xa0\\xa0\\xa0\\xa0\\xa0\\xa0\\xa0\\xa0 Management byMulti-Annual plansThe implementation of long-term plans hasmade a determining contribution to the improvements in the state of fish stocksthat have taken place since the mid 2000s. It is necessary to continue theimplementation of existing plans according to scientific advice in order toprovide more stability for the industry and to achieve healthier fish stocks.The Commission hasstarted preparations to replace current single-stock-based plans withmulti-stock management plans. The first proposal to be finalised will be amulti-species plan for the Baltic Sea, which will take into account biologicalinteractions such as predation and competition. Work is also underway on amixed-fisheries plan for the North Sea, which will incorporate technicalinteractions, i.e. the way in which different fleets and fishing gearscatch different mixtures of fish. A study on the Celtic Sea fisheries has alsobeen commissioned. Such approaches have to be developed further in the light ofthe requirements introduced by the Marine Strategy Framework Directive tomanage the ecosystem as a whole, rather than single stocks, towards goodenvironmental status.Plan proposals foranchovy in the Bay of Biscay, Baltic salmon and western horse mackerel havebeen adopted by the Commission between 2009 and 2011 and are under discussionin Parliament and in Council.In the Mediterranean, effort will continue to increase the number of stocks under scientificadvice and to develop international long-term plans. According to theMediterranean Regulation[6], EU Member States should set up multiannualplans at a national level. Despite important delays, there has recently beenprogress in the implementation of this obligation, which is being closelymonitored. To further speed up thisprocess the Commission has started precontentious procedures against severalMember States, and necessary infringement action will be further developed in2013. Actions are being undertaken at GFCM level in order to improve themanagement framework at sub-regional level. These actions are expected toimprove decision–making for the establishment of international multiannualplans. As a result a proposal to establish an international management plan forsmall pelagic stocks in the Adriatic is expected to be tabled in the 37thSession of GFCM. In the Black Sea the first steps towards the establishment ofan international management plan for turbot are also being undertaken.6.\\xa0\\xa0\\xa0\\xa0\\xa0\\xa0\\xa0\\xa0\\xa0\\xa0 Method for Proposing TACs6.1.\\xa0\\xa0\\xa0\\xa0\\xa0\\xa0\\xa0 Principles for settingTACsWhere long-term plansgoverning TACs or effort limits apply, these have to be followed. TheCommission will also propose TACs or effort limits at levels consistent withCommission proposals for long-term plans. Where plans developed by the RegionalAdvisory Councils have been assessed by ICES and STECF as conforming to MSYstandards, such plans will also be followed. However, where plans have achievedtheir recovery objectives and where they no longer provide for the setting ofannual fishing opportunities, the Commission will make proposals according toscientific advice about reaching MSY fishing mortality rates by 2015.Where TACs and othermeasures have been agreed with third countries, these have to be implemented.Where scientific adviceis provided based on comprehensive data and quantitative analysis and forecastsaccording to the ICES \"MSY framework\" TACs should be set according toscientific advice. When such advice is available it should be directly used tofix levels of quotas or fishing effort in order the attain compliance with MSYfishing rates by 2015. Where scientific advice permits the setting of TACs at alevel that will permit MSY rates to be attained before 2015 with no or smalldecrease in TAC, the Commission will make such a proposal.Where scientific adviceis provided based on qualitiative analysis of available information (even ifthis is incomplete or incorporates expert judgement) this should be used as abasis for TAC decisions. Specific issues in these cases are further addressedin section 6.2.Where there is noscientific advice at all there is a need to follow the precautionary principlein a systematic, predefined and transparent way (as set out in CommunicationCOM(2000) 1 final). 6.2.\\xa0\\xa0\\xa0\\xa0\\xa0\\xa0\\xa0 Procedure for selecteddata-limited stocksIn a joint statement with the Council inDecember 2012, the Commission stated that it considers it desirable (wherepossible in the light of forthcoming scientific advice) to maintain TACsconcerning the stocks listed in Annex III at levels fixed for 2013. These arestocks for which there is limited information on stock status and are of loweconomic importance, taken only as by-catches or with low levels of quotauptake. 7.\\xa0\\xa0\\xa0\\xa0\\xa0\\xa0\\xa0\\xa0\\xa0\\xa0 Deep Sea Species TACs for deep-sea species have been fixedfor 2014[7]and no alterations are foreseen.8.\\xa0\\xa0\\xa0\\xa0\\xa0\\xa0\\xa0\\xa0\\xa0\\xa0 Schedule The planned timetableof work is as follows. As per usual practise, the Commission will present separate proposals to Council concerning fishingopportunities for short lived species as appropriate throughout the year.  Fishing Opportunities Regulation || Advice Available || Commission Proposal || Possible adoption by Council  Stocks in Atlantic, North Sea, Antarctic and other areas || July to December || October || December  Baltic Sea || Early June || Mid September || October  Black Sea || Late October || November || December ANNEX Ia –Summary of Scientific Advice concerning stocks inthe North-East Atlantic and adjacent waters Table 2. Scientific advice about overfishing || Number of fish stocks  || 2003 || 2004 || 2005 || 2006 || 2007 || 2008 || 2009 || 2010 || 2011 || 2012 || 2013  The rate of fishing on the stock is known compared to maximum sustainable yield rate || || || 34 || 23 || 32 || 33 || 35 || 39 || 35 || 38 || 41  The stock is overfished || || || 32 || 21 || 30 || 29 || 30 || 28 || 22 || 18 || 16  The stock is fished at the maximum sustainable yield rate || || || 2 || 2 || 2 || 4 || 5 || 11 || 13 || 20 || 25  % of stocks overfished || || || 94% || 91% || 94% || 88% || 86% || 72% || 63% || 47% || 39% ANNEX Ib –Summary of Advice concerning stocks in the MediterraneanSea and the Black Sea Scientific advice about overfishing for the Mediterranean and Black Sea demersal and small pelagic stocks || no. || % || ||  || || || ||  Stocks classified according to criteria (reference point agreed) || 85 || 75 || ||  Other stocks not included due to poor data (reference point not yet agreed) || 28 || 25 ||  Stocks taken into account (out of 27species) || 113 || 100 || ||  Classified stocks: || || || ||  The stock is overfished (above Fmsy or proxy) || 75 || 88 ||  The stock is fished at or below the Fmsy or its proxy || 10 || 12 ||  Total stocks || 85 || 100 || ||  || || || || ANNEX II –Fishing Effort regulated undermulti-annual plans, as reported by Member States to STECF (provided by theJoint Research Centre)Figure 1. Regulated fishing effortin the western Baltic Sea Figure 2. Regulated fishing effortin the central Baltic Sea Figure 3. Regulated fishing effortin Kattegat Figure 4. Regulatedfishing effort in North Sea, Skagerrak and Eastern Channel.Figure 5. Regulatedfishing effort in the Irish Sea.Figure 6. Regulatedfishing effort in the west of Scotland.Figure 7. Regulatedfishing effort in the western Channel.Figure 8. Regulatedfishing effort in the Iberian-Atlantic waters. \\xa0Spain has not submitted data for 2010 nor 2011, hence the data are onlyplotted to 2009. ANNEX III. Stocks where TAC levels are to be kept at those fixed for2013, unless the state of these stocks changes significantly. Common name || TAC Unit  Blue Ling || EU and intl. waters of II and IV  Blue Ling || EU and intl. waters of III  Cod || VIb (Rockall subunit)  Common sole || VI, Vb, intl. waters of XII and XIV  Common sole || VIIbc  Herring || VIIef  Greater silver smelt || EU and intl. waters of I and II  Greater silver smelt || EU and intl. waters of III and IV  Ling || EU and intl. waters of I and II  Ling || EU and intl. waters of V  Plaice || Vb(EU waters), VI, XII, XIV  Plaice || VIIbc  Plaice || VIII, IX, X and CECAF 34.1.1  Pollack || Vb(EU waters), VI, XII and XIV  Pollack || IX, X, CECAF 34.1.1 (EU)  Saithe || VII, VIII, IX, X, CECAF 34.1.1 (EC)  Sole || VIIIcde, IX, X, CECAF (EU)  Sprat || VIIde  Tusk || IIIa and EU 22-23  Tusk || EU I, II, XIV  Tusk || EU waters of IV [1]\\xa0\\xa0\\xa0\\xa0\\xa0\\xa0\\xa0\\xa0\\xa0\\xa0\\xa0\\xa0\\xa0\\xa0 COM(2011) 425 final.[2]\\xa0\\xa0\\xa0\\xa0\\xa0\\xa0\\xa0\\xa0\\xa0\\xa0\\xa0\\xa0\\xa0\\xa0 Directive 2008/56/EC, OJ L 164, 25.06.2008, p 19[3]\\xa0\\xa0\\xa0\\xa0\\xa0\\xa0\\xa0\\xa0\\xa0\\xa0\\xa0\\xa0\\xa0\\xa0 1 Article 6 ofCouncil Regulation (EU) No 39/2013, O.J. L23, 25.01.2013. [4]\\xa0\\xa0\\xa0\\xa0\\xa0\\xa0\\xa0\\xa0\\xa0\\xa0\\xa0\\xa0\\xa0\\xa0 Atable of European quotas and relevant \"traffic lights\" can be read athttp://ec.europa.eu/fisheries/documentation/publications.A full analysis of the state of fish stocks can be found at www.ices.dk and https://stecf.jrc.ec.europa.eu[5]\\xa0\\xa0\\xa0\\xa0\\xa0\\xa0\\xa0\\xa0\\xa0\\xa0\\xa0\\xa0\\xa0\\xa0 Council Regulation (EC) no 199/2008. O.J. L60,5.3.2008, p.1-12[6]\\xa0\\xa0\\xa0\\xa0\\xa0\\xa0\\xa0\\xa0\\xa0\\xa0\\xa0\\xa0\\xa0\\xa0 Council Regulation (EC) No 1967/2006. O/J. L 196,28.7.2011, p.42[7]\\xa0\\xa0\\xa0\\xa0\\xa0\\xa0\\xa0\\xa0\\xa0\\xa0\\xa0\\xa0\\xa0\\xa0 Council Regulation (EU) No 1262/2012 OJ L 356,22.12.2012, p. 22–33 Top'}"
      ]
     },
     "execution_count": 15,
     "metadata": {},
     "output_type": "execute_result"
    }
   ],
   "source": [
    "docs[0]"
   ]
  },
  {
   "cell_type": "code",
   "execution_count": 7,
   "metadata": {},
   "outputs": [
    {
     "ename": "NameError",
     "evalue": "name 'probab_score_sum' is not defined",
     "output_type": "error",
     "traceback": [
      "\u001b[1;31m---------------------------------------------------------------------------\u001b[0m",
      "\u001b[1;31mNameError\u001b[0m                                 Traceback (most recent call last)",
      "\u001b[1;32m<ipython-input-7-a50b2fe56cd2>\u001b[0m in \u001b[0;36m<module>\u001b[1;34m\u001b[0m\n\u001b[1;32m----> 1\u001b[1;33m \u001b[0mscore_sum\u001b[0m \u001b[1;33m=\u001b[0m\u001b[0mprobab_score_sum\u001b[0m\u001b[1;33m(\u001b[0m\u001b[0mtest\u001b[0m\u001b[1;33m+\u001b[0m\u001b[0mext\u001b[0m\u001b[1;33m+\u001b[0m\u001b[0mcandidates\u001b[0m\u001b[1;33m,\u001b[0m\u001b[0mtokenized_docs\u001b[0m\u001b[1;33m,\u001b[0m\u001b[0mtexts\u001b[0m\u001b[1;33m)\u001b[0m\u001b[1;33m\u001b[0m\u001b[1;33m\u001b[0m\u001b[0m\n\u001b[0m\u001b[0;32m      2\u001b[0m \u001b[0mtokenized\u001b[0m \u001b[1;33m=\u001b[0m \u001b[0mtokenize\u001b[0m\u001b[1;33m(\u001b[0m\u001b[1;34m'water pollution underground'\u001b[0m\u001b[1;33m,\u001b[0m \u001b[0mstopWords\u001b[0m\u001b[1;33m)\u001b[0m\u001b[1;33m\u001b[0m\u001b[1;33m\u001b[0m\u001b[0m\n\u001b[0;32m      3\u001b[0m \u001b[0mext\u001b[0m \u001b[1;33m=\u001b[0m \u001b[0mextend_tokens\u001b[0m\u001b[1;33m(\u001b[0m\u001b[0mtokenized\u001b[0m\u001b[1;33m,\u001b[0m \u001b[0mwv_wiki_en\u001b[0m\u001b[1;33m)\u001b[0m\u001b[1;33m\u001b[0m\u001b[1;33m\u001b[0m\u001b[0m\n\u001b[0;32m      4\u001b[0m \u001b[0mcandidates\u001b[0m \u001b[1;33m=\u001b[0m \u001b[0mpre_retrieval_KNN\u001b[0m\u001b[1;33m(\u001b[0m\u001b[1;34m'water pollution underground'\u001b[0m\u001b[1;33m,\u001b[0m \u001b[1;36m5\u001b[0m\u001b[1;33m,\u001b[0m \u001b[0mwv_wiki_en\u001b[0m\u001b[1;33m,\u001b[0m \u001b[1;36m10\u001b[0m\u001b[1;33m,\u001b[0m \u001b[0mstopWords\u001b[0m\u001b[1;33m,\u001b[0m\u001b[0mextension\u001b[0m\u001b[1;33m=\u001b[0m\u001b[1;32mFalse\u001b[0m\u001b[1;33m)\u001b[0m\u001b[1;33m\u001b[0m\u001b[1;33m\u001b[0m\u001b[0m\n",
      "\u001b[1;31mNameError\u001b[0m: name 'probab_score_sum' is not defined"
     ]
    }
   ],
   "source": [
    "score_sum = dr.probability_score(tokens,texts, probability_function,n, *args)\n",
    "probab_score_sum(test+ext+candidates,tokenized_docs,texts)"
   ]
  },
  {
   "cell_type": "code",
   "execution_count": null,
   "metadata": {},
   "outputs": [],
   "source": [
    "dr.probability_score(tokens,texts, probability_function,n, *args)\n",
    "    # final function, takes also probability_function probability_sum_weight, but doesnt give final result (used in probability_score_sum_weights)\n",
    "#     \"\"\"Assigns score to documents based on probability_function metric.\n",
    "#     Args:\n",
    "#         tokens (list): List of tokens (tokenized query). If needed also extension (extension by summation of 2 consecutive words).\n",
    "#         texts (dict):  Keys represent document ids, values are document text. \n",
    "#         probability_function (function): Metric function that calculates document relavance. Functions: probability_multiply, probability_sum. Require only first 4 arguments.\n",
    "#         n (int): Number of returned tuples, sorted by highest scores.\n",
    "#         top_expansion (list): List of expanded words. Usually candidates (kNN expansion).\n",
    "#         alpha (float): Number between 0 and 1. Weight that emphasizes the difference between original query words and expansions. \n",
    "#                        For alpha 0.5 all words have same weights (but not same values!), for alpha 1 expansion words have value 0. \n",
    "#                        For alpha -1 values equal to cosine similarity to query words. \n",
    "#         wv (Word2VecKeyedVectors): Word embeddings.\n",
    "#     Returns:\n",
    "#         document_probability (list): Tuples of document ids and scores that measure document relavance. Returns n tuples with highest score.\n",
    "#     \"\"\""
   ]
  },
  {
   "cell_type": "code",
   "execution_count": null,
   "metadata": {},
   "outputs": [],
   "source": [
    "dr.probability_score_sum_weights(original_tokens, top_expansion, texts,n, alpha, wv)\n",
    "    # final fuction\n",
    "#     \"\"\"As probability_score only weighted.\n",
    "#         Args:\n",
    "#         original_tokens(list): List of strings. Tokenized original query. Usually also extension (extension by summation of 2 consecutive words)\n",
    "#         top_expansion (list): List of expanded words. Usually candidates (kNN expansion).\n",
    "#         texts (dict):  Keys represent document ids, values are document text.\n",
    "#         n (int): Number of returned tuples, sorted by highest scores.\n",
    "#         alpha (float): Number between 0 and 1. Weight that emphasizes the difference between original query words and expansions. \n",
    "#                        For alpha 0.5 all words have same weights (but not same values!), for alpha 1 expansion words have value 0. \n",
    "#                        For alpha -1 values equal to cosine similarity to query words. \n",
    "#         wv (Word2VecKeyedVectors): Word embeddings.\n",
    "#     Returns:\n",
    "#         document_score (list): Tuples of document ids and scores that measure document relavance. Returns n tuples with highest score.\n",
    "#     \"\"\""
   ]
  },
  {
   "cell_type": "code",
   "execution_count": null,
   "metadata": {},
   "outputs": [],
   "source": [
    "dr.tfidf_score(tokens, texts, tfidf_function,n, *args)\n",
    "#     #final function\n",
    "#     \"\"\"Assigns score to documents based on tfidf_function metric.\n",
    "#     Args:\n",
    "#         tokens (list): List of tokens (tokenized query). If needed also extension (extension by summation of 2 consecutive words).\n",
    "#         texts (dict):  Keys represent document ids, values are document text. \n",
    "#         probability_function (function): Metric function that calculates document relavance. Functions: tfidf_sum; require only first 4 arguments, tfidf_sum_weight; require all arguments.\n",
    "#         n (int): Number of returned tuples, sorted by highest scores.\n",
    "#         top_expansion (list): List of expanded words. Usually candidates (kNN expansion).\n",
    "#         alpha (float): Number between 0 and 1. Weight that emphasizes the difference between original query words and expansions. \n",
    "#                        For alpha 0.5 all words have same weights (but not same values!), for alpha 1 expansion words have value 0. \n",
    "#                        For alpha -1 values equal to cosine similarity to query words. \n",
    "#         wv (Word2VecKeyedVectors): Word embeddings.\n",
    "#     Returns:\n",
    "#         document_probability (list): Tuples of document ids and scores that measure document relavance. Returns n tuples with highest score.\n",
    "#         not_appear (list): List of words that did not occure in any document.\n",
    "#     \"\"\""
   ]
  }
 ],
 "metadata": {
  "kernelspec": {
   "display_name": "Python 3",
   "language": "python",
   "name": "python3"
  },
  "language_info": {
   "codemirror_mode": {
    "name": "ipython",
    "version": 3
   },
   "file_extension": ".py",
   "mimetype": "text/x-python",
   "name": "python",
   "nbconvert_exporter": "python",
   "pygments_lexer": "ipython3",
   "version": "3.7.3"
  }
 },
 "nbformat": 4,
 "nbformat_minor": 2
}
